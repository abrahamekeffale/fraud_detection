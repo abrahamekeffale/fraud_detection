{
 "cells": [
  {
   "cell_type": "code",
   "execution_count": null,
   "metadata": {},
   "outputs": [],
   "source": [
    "from lime import lime_tabular\n",
    "\n",
    "# Assuming you have a trained model `model` and your feature data `X`\n",
    "explainer = lime_tabular.LimeTabularExplainer(X_train, feature_names=X_train.columns, class_names=['Not Fraud', 'Fraud'])\n",
    "\n",
    "# Explain a specific prediction\n",
    "explanation = explainer.explain_instance(X_test[0], model.predict_proba, num_features=10)\n",
    "explanation.show_in_notebook(show_table=True)"
   ]
  }
 ],
 "metadata": {
  "language_info": {
   "name": "python"
  }
 },
 "nbformat": 4,
 "nbformat_minor": 2
}
