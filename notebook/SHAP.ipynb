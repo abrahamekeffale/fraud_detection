{
 "cells": [
  {
   "cell_type": "code",
   "execution_count": null,
   "metadata": {},
   "outputs": [],
   "source": [
    "import shap\n",
    "\n",
    "explainer = shap.KernelExplainer(model.predict_proba, X_train)\n",
    "shap_values = explainer.shap_values(X_test)\n",
    "\n",
    "# Summary Plot\n",
    "shap.summary_plot(shap_values, X_test)\n",
    "\n",
    "# Force Plot\n",
    "shap.force_plot(explainer.expected_value[1], shap_values[0][1], X_test.iloc[0])\n",
    "\n",
    "# Dependence Plot\n",
    "shap.dependence_plot(\"feature_name\", shap_values, X_test)"
   ]
  }
 ],
 "metadata": {
  "language_info": {
   "name": "python"
  }
 },
 "nbformat": 4,
 "nbformat_minor": 2
}
